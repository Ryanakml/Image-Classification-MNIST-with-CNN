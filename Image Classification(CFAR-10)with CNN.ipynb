{
 "cells": [
  {
   "cell_type": "markdown",
   "id": "a5e9a74f-169b-4876-b410-a4a0e77308b8",
   "metadata": {},
   "source": [
    "# **Image Classification(CFAR-10)with CNN**"
   ]
  },
  {
   "cell_type": "markdown",
   "id": "028b0898-e400-4154-87de-be8bd08fc8e1",
   "metadata": {},
   "source": [
    "![](https://miro.medium.com/max/700/1*oB3S5yHHhvougJkPXuc8og.gif)"
   ]
  },
  {
   "cell_type": "code",
   "execution_count": 16,
   "id": "cb97fa85-0343-4237-964d-102a0924d8a3",
   "metadata": {},
   "outputs": [],
   "source": [
    "# Import datasets\n",
    "\n",
    "from keras.datasets import cifar10\n",
    "from keras.models import Sequential\n",
    "from keras.layers import Dense, Dropout, Conv2D, MaxPool2D, Flatten\n",
    "from tensorflow.keras.utils import to_categorical\n",
    "\n",
    "# load datasets\n",
    "\n",
    "(X_train, y_train), (X_test, y_test) = cifar10.load_data()"
   ]
  },
  {
   "cell_type": "code",
   "execution_count": 13,
   "id": "09385c10-7709-4b0f-b28b-18fb06ece3dc",
   "metadata": {
    "scrolled": true
   },
   "outputs": [],
   "source": [
    "# preprocessing\n",
    "\n",
    "\n",
    "X_train = X_train.reshape(X_train.shape[0], 32,32,3)\n",
    "X_test = X_test.reshape(X_test.shape[0], 32,32,3)\n",
    "X_train = X_train.astype('float32')\n",
    "X_test = X_test.astype('float32')\n"
   ]
  },
  {
   "cell_type": "code",
   "execution_count": 14,
   "id": "e0f8d70b-8492-40bc-aa01-5475167b1aae",
   "metadata": {},
   "outputs": [],
   "source": [
    "# norm\n",
    "\n",
    "x = 255\n",
    "X_train /= x\n",
    "X_test /= x"
   ]
  },
  {
   "cell_type": "code",
   "execution_count": 25,
   "id": "8b96dfa9-0fce-4c06-beea-86e4fd2bf1a0",
   "metadata": {},
   "outputs": [
    {
     "name": "stdout",
     "output_type": "stream",
     "text": [
      "Shape before one-hot encoding:  (50000, 1)\n",
      "Shape after one-hot encoding:  (50000, 10)\n"
     ]
    }
   ],
   "source": [
    "# one-hot encoding\n",
    "\n",
    "n_classes = 10\n",
    "print(\"Shape before one-hot encoding: \", y_train.shape)\n",
    "Y_train = to_categorical(y_train, n_classes)\n",
    "Y_test = to_categorical(y_test, n_classes)\n",
    "print(\"Shape after one-hot encoding: \", Y_train.shape)"
   ]
  },
  {
   "cell_type": "code",
   "execution_count": 26,
   "id": "c4787037-1ef6-4eb6-8c5c-606f62c68795",
   "metadata": {},
   "outputs": [],
   "source": [
    "# model\n",
    "\n",
    "model = Sequential()"
   ]
  },
  {
   "cell_type": "code",
   "execution_count": 27,
   "id": "0187c7bb-3d56-410e-8e7b-8a4b0934a84f",
   "metadata": {},
   "outputs": [],
   "source": [
    "# convolutional layer\n",
    "model.add(Conv2D(50, kernel_size=(3,3), strides=(1,1), padding='same', activation='relu', input_shape=(32, 32, 3)))\n",
    "\n",
    "# convolutional layer\n",
    "model.add(Conv2D(75, kernel_size=(3,3), strides=(1,1), padding='same', activation='relu'))\n",
    "model.add(MaxPool2D(pool_size=(2,2)))\n",
    "model.add(Dropout(0.25))\n",
    "\n",
    "model.add(Conv2D(125, kernel_size=(3,3), strides=(1,1), padding='same', activation='relu'))\n",
    "model.add(MaxPool2D(pool_size=(2,2)))\n",
    "model.add(Dropout(0.25))\n",
    "\n",
    "# flatten output of conv\n",
    "model.add(Flatten())"
   ]
  },
  {
   "cell_type": "code",
   "execution_count": 28,
   "id": "e5f3cb57-ba57-46f2-8165-42d8bca12345",
   "metadata": {},
   "outputs": [],
   "source": [
    "# hidden layer\n",
    "model.add(Dense(500, activation='relu'))\n",
    "model.add(Dropout(0.4))\n",
    "model.add(Dense(250, activation='relu'))\n",
    "model.add(Dropout(0.3))\n",
    "# output layer\n",
    "model.add(Dense(10, activation='softmax'))"
   ]
  },
  {
   "cell_type": "code",
   "execution_count": 29,
   "id": "04854ba8-18b7-4995-ae12-6f616250db39",
   "metadata": {},
   "outputs": [
    {
     "name": "stdout",
     "output_type": "stream",
     "text": [
      "Epoch 1/10\n",
      "\u001b[1m391/391\u001b[0m \u001b[32m━━━━━━━━━━━━━━━━━━━━\u001b[0m\u001b[37m\u001b[0m \u001b[1m115s\u001b[0m 292ms/step - accuracy: 0.1823 - loss: 6.4326 - val_accuracy: 0.4059 - val_loss: 1.6258\n",
      "Epoch 2/10\n",
      "\u001b[1m391/391\u001b[0m \u001b[32m━━━━━━━━━━━━━━━━━━━━\u001b[0m\u001b[37m\u001b[0m \u001b[1m137s\u001b[0m 349ms/step - accuracy: 0.4220 - loss: 1.5934 - val_accuracy: 0.5588 - val_loss: 1.2540\n",
      "Epoch 3/10\n",
      "\u001b[1m391/391\u001b[0m \u001b[32m━━━━━━━━━━━━━━━━━━━━\u001b[0m\u001b[37m\u001b[0m \u001b[1m137s\u001b[0m 351ms/step - accuracy: 0.5219 - loss: 1.3370 - val_accuracy: 0.5640 - val_loss: 1.2671\n",
      "Epoch 4/10\n",
      "\u001b[1m391/391\u001b[0m \u001b[32m━━━━━━━━━━━━━━━━━━━━\u001b[0m\u001b[37m\u001b[0m \u001b[1m134s\u001b[0m 343ms/step - accuracy: 0.5824 - loss: 1.1873 - val_accuracy: 0.6568 - val_loss: 1.0292\n",
      "Epoch 5/10\n",
      "\u001b[1m391/391\u001b[0m \u001b[32m━━━━━━━━━━━━━━━━━━━━\u001b[0m\u001b[37m\u001b[0m \u001b[1m135s\u001b[0m 346ms/step - accuracy: 0.6273 - loss: 1.0669 - val_accuracy: 0.6856 - val_loss: 0.9640\n",
      "Epoch 6/10\n",
      "\u001b[1m391/391\u001b[0m \u001b[32m━━━━━━━━━━━━━━━━━━━━\u001b[0m\u001b[37m\u001b[0m \u001b[1m135s\u001b[0m 344ms/step - accuracy: 0.6597 - loss: 0.9794 - val_accuracy: 0.7007 - val_loss: 0.8711\n",
      "Epoch 7/10\n",
      "\u001b[1m391/391\u001b[0m \u001b[32m━━━━━━━━━━━━━━━━━━━━\u001b[0m\u001b[37m\u001b[0m \u001b[1m141s\u001b[0m 362ms/step - accuracy: 0.6795 - loss: 0.9175 - val_accuracy: 0.6986 - val_loss: 0.8638\n",
      "Epoch 8/10\n",
      "\u001b[1m391/391\u001b[0m \u001b[32m━━━━━━━━━━━━━━━━━━━━\u001b[0m\u001b[37m\u001b[0m \u001b[1m166s\u001b[0m 425ms/step - accuracy: 0.7071 - loss: 0.8516 - val_accuracy: 0.7179 - val_loss: 0.8263\n",
      "Epoch 9/10\n",
      "\u001b[1m391/391\u001b[0m \u001b[32m━━━━━━━━━━━━━━━━━━━━\u001b[0m\u001b[37m\u001b[0m \u001b[1m170s\u001b[0m 435ms/step - accuracy: 0.7173 - loss: 0.8136 - val_accuracy: 0.7232 - val_loss: 0.8140\n",
      "Epoch 10/10\n",
      "\u001b[1m391/391\u001b[0m \u001b[32m━━━━━━━━━━━━━━━━━━━━\u001b[0m\u001b[37m\u001b[0m \u001b[1m147s\u001b[0m 376ms/step - accuracy: 0.7278 - loss: 0.7801 - val_accuracy: 0.7343 - val_loss: 0.7920\n"
     ]
    },
    {
     "data": {
      "text/plain": [
       "<keras.src.callbacks.history.History at 0x28c2b9040>"
      ]
     },
     "execution_count": 29,
     "metadata": {},
     "output_type": "execute_result"
    }
   ],
   "source": [
    "# compiling the sequential model\n",
    "model.compile(loss='categorical_crossentropy', metrics=['accuracy'], optimizer='adam')\n",
    "\n",
    "# training the model for 10 epochs\n",
    "model.fit(X_train, Y_train, batch_size=128, epochs=10, validation_data=(X_test, Y_test))"
   ]
  },
  {
   "cell_type": "code",
   "execution_count": 32,
   "id": "e676e0be-9afc-4dd9-878d-10f8053c1640",
   "metadata": {},
   "outputs": [
    {
     "name": "stderr",
     "output_type": "stream",
     "text": [
      "WARNING:absl:You are saving your model as an HDF5 file via `model.save()` or `keras.saving.save_model(model)`. This file format is considered legacy. We recommend using instead the native Keras format, e.g. `model.save('my_model.keras')` or `keras.saving.save_model(model, 'my_model.keras')`. \n",
      "WARNING:absl:Compiled the loaded model, but the compiled metrics have yet to be built. `model.compile_metrics` will be empty until you train or evaluate the model.\n"
     ]
    },
    {
     "name": "stdout",
     "output_type": "stream",
     "text": [
      "\u001b[1m1/1\u001b[0m \u001b[32m━━━━━━━━━━━━━━━━━━━━\u001b[0m\u001b[37m\u001b[0m \u001b[1m0s\u001b[0m 34ms/step\n",
      "Predicted class: 4\n"
     ]
    }
   ],
   "source": [
    "# Deploy and testing model\n",
    "from tensorflow.keras.preprocessing.image import load_img, img_to_array\n",
    "from tensorflow.keras.models import load_model\n",
    "import numpy as np\n",
    "\n",
    "\n",
    "# Save model\n",
    "model.save('cnn_model_cifar.h5')\n",
    "\n",
    "# Memuat model yang telah dilatih\n",
    "model = load_model('cnn_model_cifar.h5')\n",
    "\n",
    "# Memuat dan preprocessing gambar baru\n",
    "path = r'/Users/ryanakmalpasya/Documents/[1] BS/[2] Freelance/PROJECTS/[1] EMERGING/[2] AI/[1] ML/Deep Learning/Image Classification with CNN/cat.jpeg'\n",
    "img = load_img(path, target_size=(32, 32))  # CIFAR-10 ukuran 32x32\n",
    "img_array = img_to_array(img)\n",
    "img_array = img_array / 255.0  # Normalisasi\n",
    "img_array = np.expand_dims(img_array, axis=0)  # Menambahkan dimensi batch\n",
    "\n",
    "# Prediksi\n",
    "prediction = model.predict(img_array)\n",
    "\n",
    "# Interpretasi prediksi\n",
    "predicted_class = np.argmax(prediction)\n",
    "print(f'Predicted class: {predicted_class}')\n"
   ]
  },
  {
   "cell_type": "code",
   "execution_count": 33,
   "id": "04644db8-7e32-4a55-898a-0b1c18518699",
   "metadata": {},
   "outputs": [
    {
     "name": "stdout",
     "output_type": "stream",
     "text": [
      "Predicted class: deer\n"
     ]
    }
   ],
   "source": [
    "# CIFAR-10 class labels\n",
    "class_labels = ['airplane', 'automobile', 'bird', 'cat', 'deer', 'dog', 'frog', 'horse', 'ship', 'truck']\n",
    "\n",
    "# Interpret the predicted class and print the label\n",
    "predicted_label = class_labels[predicted_class]\n",
    "print(f'Predicted class: {predicted_label}')\n"
   ]
  },
  {
   "cell_type": "code",
   "execution_count": null,
   "id": "7d01e116-8041-4d62-9f14-b9d5294e629b",
   "metadata": {},
   "outputs": [],
   "source": []
  }
 ],
 "metadata": {
  "kernelspec": {
   "display_name": "Python 3 (ipykernel)",
   "language": "python",
   "name": "python3"
  },
  "language_info": {
   "codemirror_mode": {
    "name": "ipython",
    "version": 3
   },
   "file_extension": ".py",
   "mimetype": "text/x-python",
   "name": "python",
   "nbconvert_exporter": "python",
   "pygments_lexer": "ipython3",
   "version": "3.12.3"
  }
 },
 "nbformat": 4,
 "nbformat_minor": 5
}
