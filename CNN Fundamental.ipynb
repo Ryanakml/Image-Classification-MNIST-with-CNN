{
 "cells": [
  {
   "attachments": {},
   "cell_type": "markdown",
   "id": "de4b8e78-026a-4052-9ebb-4e69bc6e1f08",
   "metadata": {},
   "source": [
    "# **Convolutional Neural Netwokr (CNN)**"
   ]
  },
  {
   "cell_type": "markdown",
   "id": "b5076434-9d61-43a6-bc0b-e5fb13d96018",
   "metadata": {
    "scrolled": true
   },
   "source": [
    "![Alt text](https://www.mdpi.com/computation/computation-11-00052/article_deploy/html/images/computation-11-00052-g002.png)\n"
   ]
  },
  {
   "cell_type": "markdown",
   "id": "f458856f-870b-49dc-81c9-a6e1a986770b",
   "metadata": {},
   "source": [
    "## FUNDAMENTAL\n",
    "\n",
    "* Gambar direpresentasikan dengan angka\n",
    "* per piksel punya nilai warna dan intensitas\n",
    "  \n",
    "![](https://miro.medium.com/v2/resize:fit:640/format:webp/0*Su2NsuI37Lii-OCK.png)"
   ]
  },
  {
   "cell_type": "markdown",
   "id": "fb69da74-06ec-4070-9a86-894381dbd5b8",
   "metadata": {},
   "source": [
    "* Untuk gambar berwarna memiliki 3 layer RGB\n",
    "\n",
    "* Bentuk representasi \n",
    "\n",
    "\n",
    "![](https://miro.medium.com/v2/resize:fit:640/format:webp/1*NyhH__Pkvlxgt0iGPgg0UQ.png)"
   ]
  },
  {
   "cell_type": "markdown",
   "id": "57095c99-b013-4ac5-95e4-9fbaa9004f3e",
   "metadata": {},
   "source": [
    "* Sedangkan pada Grayscale\n",
    "* Piksel pikselnya membawa nilai dari intensitas warna nya \n",
    "* 0 = hitam dan 255 = putih\n",
    "\n",
    "![](https://miro.medium.com/v2/resize:fit:1100/format:webp/0*IjuQtgtesflU7sLy.png)"
   ]
  },
  {
   "cell_type": "markdown",
   "id": "2fb3f230-a36b-4853-8fea-7879241d1950",
   "metadata": {},
   "source": [
    "## **NEURAL NETWORK**\n",
    "\n",
    "* Terdiri dari :\n",
    "    - Neuron : pengoperasi (mengubah input menjadi output dan diarahkan ke neuron lain)\n",
    "        - Fungsi Aktivasi\n",
    "        - bias\n",
    "        - SUM\n",
    "    - INPUT dan OUTPUT\n",
    "\n",
    "* Representasi Visual : \n",
    "\n",
    "![](https://miro.medium.com/v2/resize:fit:4800/format:webp/0*9ZTsY5m2Lksbl8O7.png)\n",
    "\n",
    "Input layer (x) merepresentasikan semua nilai pikse, dan pada hidden layer diolah dengan mengalikan nya dengan bobot (w) dan penambahan dengan bias (b), untuk bisa mendapakan pola tertentu. z atau hasil ini akan menghasilkan sinyal non linear. yang kemudian akan dihitung kekuatannyaoutpunya adalah fungsi sigmoid (σ(z)) yang menentukan seberapa kuat sinyal yang dihasilkan."
   ]
  },
  {
   "cell_type": "markdown",
   "id": "1963c38d-ecb9-4086-9765-6ac419023361",
   "metadata": {},
   "source": [
    "* Input Layer: Tempat data masuk.\n",
    "* Hidden Layer: Tempat data diproses dan ditemukan pola.\n",
    "* Output Layer: Tempat hasil akhir keluar.\n",
    "\n",
    "![](https://miro.medium.com/v2/resize:fit:1100/format:webp/0*XoYvsfn9EBBQHHhM.gif)"
   ]
  },
  {
   "cell_type": "markdown",
   "id": "782743f7-7b6d-43cd-9720-da5612c73504",
   "metadata": {},
   "source": [
    "* Setelah prediksi dibuat, jaringan mengukur seberapa besar kesalahan yang terjadi. (loss)\n",
    "* Kemudian, jaringan belajar dari kesalahan tersebut melalui propagasi mundur dan memperbaiki bobot-bobotnya. (backpropagation)\n",
    "* Dengan begitu, pada setiap iterasi, jaringan bisa membuat prediksi yang semakin akurat."
   ]
  },
  {
   "cell_type": "markdown",
   "id": "7af11566-b77d-4946-9d2c-82fb36186ede",
   "metadata": {},
   "source": [
    "## **CNN**\n",
    "\n",
    "### Konvolusi \n",
    "\n",
    "![](https://miro.medium.com/v2/resize:fit:640/format:webp/0*Kvc8f4nHC0Vg_WaG.gif)\n",
    "\n",
    "### Kernel \n",
    "\n",
    "adalah filter yang diterapkan.\n",
    "\n"
   ]
  },
  {
   "cell_type": "markdown",
   "id": "c0621baf-5d1d-4805-9408-9c53294e3c75",
   "metadata": {},
   "source": [
    "Proses ini akan menghasilkan matrik baru yang merepresentasikan peta fitur (feature extracted)\n",
    "\n",
    "**Okey, kenapa dengan mengalikan gambar asli dengan kernel bisa mengekstrak fitur?**\n",
    "\n",
    "Kita tahu gambar visual direpresentasikan dalam bentuk angka per piksel yang merepresentasikan warna dan intensitas per piksel yang bersama2 mnghasilkan gambar secara keseluruhan.\n",
    "\n",
    "fitur itu adalah informasi objek pada gambar. ketika kita melihat sebuah objek misalnya garis pada gambar, bagaimana garis ini dipahami oleh komputer?\n",
    "\n",
    "komputer akan membandingkan perubahan intensitas atau nilai antar piksel yang tajam. misalnya backround full putih dan 1 garis hitam.\n",
    "\n",
    "akan ada perubahan intensitas piksel yang tajam, karena piksel putih itu 255, dan hitam itu 0, akan ada area dimana dari tadi piksel2nya 255 menjadi secara tiba tiba menjadi 0. \n",
    "\n",
    "konvolusi akan berjalan pada setiap piksel dan dapat mengambil informasi informasi ini.\n",
    "\n",
    "pengalian dengan kernel akan menghasilkan gambar baru yang dibaca oleh komputer sebagai objek, bukan lagi gambar secara keseluruhan.\n",
    "\n",
    "nilai nilai pada gambar asli merepresentasikan nilai2 yang dibaca oleh komputer sebagai warna dan intensitas saja\n",
    "\n",
    "hasil konvolusi adalah gambar baru dengan nilai nilai yang sudah disesuaikan sehingga komputer membaca objek (tepi, sudut, dll). bukan hanya warna dan intensitasnya."
   ]
  },
  {
   "cell_type": "markdown",
   "id": "c2e2df99-0f54-444f-a2d3-20dc6cdc4c1c",
   "metadata": {},
   "source": [
    "**Sekarang, bagaimana jika gambar berwarna yang 3d, bagaimana kernel melewatinya?**\n",
    "\n",
    "Representasi piksel piksel pada gambar berwarna\n",
    "\n",
    "![](https://miro.medium.com/v2/resize:fit:828/format:webp/1*whABJWYKeolCwllDcpg85w.png)\n",
    "    \n",
    "Untuk gambar RGB, tiap layer akan memiliki karnelnya masing masing\n",
    "\n",
    "![](https://miro.medium.com/v2/format:webp/0*N7YTWQ-7P7s6Z9DZ.gif)\n",
    "\n",
    "Hal ini karena fitur yang berbeda mungkin lebih terlihat atau relevan dalam satu saluran dibandingkan saluran lainnya."
   ]
  },
  {
   "cell_type": "markdown",
   "id": "497d6932-7b78-4e26-97a6-0fb1091dccdb",
   "metadata": {},
   "source": [
    "**Sekarang apa hubungannya ini semua dengan neural network?**\n",
    "\n",
    "Kedalalaman (depth) dari sebuah layer pada CNN merepresentasikan jumlah kernel yang digunakan pada layer tersebut.\n",
    "\n",
    "Setiap kernel akan merepresentasikan hasil pendeteksian fitur tertentu pada gambar, seperti tepi, bentuk dan juga tekstur, yang bisa diterjemahkan menjadi objek.\n",
    "\n",
    "Hasil pendeteksian fitur oleh kernel disebut dengan peta fitur (gambar baru yang nilai2nya merepresentasikan tidak hanya warna dan intensitas, namun bentuk dan struktur yang ada di dalamnya juga)\n",
    "\n",
    "Jadi, jika ada banyak kernel artinya akan ada banyak peta fitur yang dihasilkan. kumpulan kernel ini disebut dengan saluran\n",
    "\n",
    "\n",
    "Setelah banyak kernel diterapkan pada gambar untuk mengekstraksi banyak fitur pada gambar,\n",
    "\n",
    "hasilnya adalah banyak peta fitur, yang merepresentasikan gambar yang punya fitur tertentu di dalamnya\n",
    "\n",
    "ini disebut dengan saluran. \n",
    "\n",
    "jadi setiap saluran adalah hasil dari setiap kernel\n",
    "\n",
    "Jika ada 10 kernel untuk mengekstrak 10 fitur, maka akan ada 10 peta fitur atau gambar baru yang merepresentasikan tiap fitur yang berbeda.\n",
    "\n",
    "dan akan ada 10 saluran. \n",
    "\n",
    "MISAL \n",
    "\n",
    "kita punya gambar kucing dalam greyscale dan menerapkan 2 kernel\n",
    "\n",
    "Kernel 1, mengekstraksi bentuk dan struktur ekor kucing, dengan mendeteksi nilai piksel pada area ekor kucing\n",
    "Kernel 2, mengekstraksi bentuk dan struktur telinga kucing, dengan cara yang sama.\n",
    "\n",
    "akan ada dua saluran \n",
    "\n",
    "Saluran 1, adalah peta fitur 1, yang merupakan gambar baru yang merepresentasikan persebaran nilai nilai piksel baru yang mendefinisikan struktur atau bentuk yang di ekstraksi.\n",
    "Saluran 2, adalah peta fitur 2, yang juga sama namun informasi yang dibawa adalah bentuk dan struktur telinga kucing.\n",
    "\n",
    "Saluran, peta fitur dan kernel, bisa disesuaikan tergantung dari gambar, apakah gambar punya banyak objek yang ditail yang ingin dianalisa.\n"
   ]
  },
  {
   "cell_type": "markdown",
   "id": "27b02cfc-a3f9-47ff-a746-174dbba208c0",
   "metadata": {},
   "source": [
    "![](https://miro.medium.com/v2/resize:fit:1100/format:webp/1*-FR6rFrKXktjxwDTlGofPQ.png)\n",
    "\n",
    "\n",
    "So, \n",
    "\n",
    "Each layer of convolution itu seperti peta fitur yang merepresentasikan atau membawa informasi tertentu dari sebuah gambar.\n",
    "\n",
    "Layer = saluran (hasil pendekteksian fitur tertentu pada gambar tergantung dari settingan kernel yang kita gunakan untuk ekstraksi fitur)"
   ]
  },
  {
   "cell_type": "markdown",
   "id": "c6bbbaa7-7722-41b7-81e4-464dc2a91f40",
   "metadata": {},
   "source": [
    "**Stride**\n",
    "\n",
    "Langkah, seberapa jauh kernel bergerak pada gambar dalam proses ekstraksi fiturnya.\n",
    "\n",
    "Misalnya Stride = 1\n",
    "\n",
    "![](https://miro.medium.com/v2/resize:fit:1100/format:webp/0*PwwAAFrpat2zNcsV.gif)"
   ]
  },
  {
   "cell_type": "markdown",
   "id": "7ac89072-1f44-468c-8704-74c08812ca98",
   "metadata": {},
   "source": [
    "Misalnya Stride = 2\n",
    "\n",
    "![](https://miro.medium.com/v2/resize:fit:1100/format:webp/0*CvEOVhChtGfcgZFb.gif)"
   ]
  },
  {
   "cell_type": "markdown",
   "id": "586bddca-a0b2-48dd-b428-f5c2a8fe8127",
   "metadata": {},
   "source": [
    "**Mengapa Stride penting?**\n",
    "\n",
    "Stride mendefinisikan pergerakan kernel yang mana : \n",
    "\n",
    "semakin sedikit stride, semakin banyak outpur yang dihasilkan, karena pergerakannya kecil dan menangkap detail lebih banyak.\n",
    "\n",
    "stride yang sedikit akan menghasilkan ekstraksi fitur yang sangat detail, namun akan memerlukan perangkat komputasi bekerja lebih ekstra.\n",
    "\n",
    "semakin banyak stride, semakin sedikit output yang dihasilkan, karena pergerakannya banyak melangkahi pikse, dan ditail tidak lebih banyak di tangkap.\n",
    "\n",
    "stride yang banyak akan melewati beberapa detail, namun akan mempercepat kinerja perangkat komputasi.\n",
    "\n",
    "\n",
    "Mengontrol Stride memungkinkan kita mengalokasikan dan mengelola input dan proses dalam CNN.\n",
    "\n",
    "misalnya fitur yang ingin diekstraksi tidak detail (sebuah garis saja), mengapa harus menggunakan stride kecil, yang hanya akan membuat komputer bekerja ekstra tanpa alasan jelas."
   ]
  },
  {
   "cell_type": "markdown",
   "id": "9be98570-f0e8-4bec-8315-20d48bf28832",
   "metadata": {},
   "source": [
    "**Padding**\n",
    "\n",
    "Padding adalah pengambilan informasi pada tepi gambar,\n",
    "\n",
    "pada proses pengalian matriks, nilai pada tepi gambbar tidak langsung direpresentasikan, karena tidak mengenai origin matriks, artinya nilai pada tepi akan sulit di definiskan,\n",
    "\n",
    "bagaimana jika ada fitur penting disana?\n",
    "\n",
    "padding akan menambahkan piksel baru yang nilainya 0, hanya agar kernel bisa beroperasi pada tepi dan mengambil fitur penting disana\n",
    "\n",
    "Representasi Visual:\n",
    "\n",
    "Tanpa padding:\n",
    "\n",
    "![](https://miro.medium.com/v2/resize:fit:1100/format:webp/0*zAqkOGriv74N7K_d.gif)\n",
    "\n",
    "Dengan padding:\n",
    "\n",
    "![](https://miro.medium.com/v2/resize:fit:1100/format:webp/0*9EyOto1wcaYsbT-T.gif)\n",
    "\n",
    "\n",
    "Origin kernel bisa langsung mengenai piksel2 pada tepi, dan piksel2 itu bisa menjadi representasi hasil dari konvolusi (peta fitur)\n",
    "\n"
   ]
  },
  {
   "cell_type": "markdown",
   "id": "3d0823cf-7f84-49ee-9c8c-28c1248c7de9",
   "metadata": {},
   "source": [
    "SO, kapan menggunakan padding?\n",
    "\n",
    "padding digunakan jika ada fitur penting pada tepi yang ingin di ekstrak atau diambil informasinya\n",
    "\n",
    "Dan bagaimana pengaruhnya terhadap bidang keluaran?\n",
    "\n",
    "Sama seperti tadi menambahkan padding akan meningkatkan detail dan menambah dimensi keluaran (saluran) yang perlu di komputasi dengan lebih tinggi.\n",
    "\n",
    "![](https://miro.medium.com/v2/resize:fit:828/format:webp/0*KkBxsHaa_8sZZtEs)\n",
    "\n",
    "Jika input 5x5 yang dengan stride standar 1 akan menghasilkan output keluaran (hasil konvolusi) berukuran 3x3\n",
    "\n",
    "Jika ditambahkan padding 1 saja per sisi akan menhasilkan output keluaran (hasil keluaran) berukuran 5x5 (tetap sama) atau bisa meningkat tergantung jumlah padding yang ditambahkan"
   ]
  },
  {
   "cell_type": "markdown",
   "id": "1ea0ff99-0ca6-4dbc-8304-4b03f3357b5f",
   "metadata": {},
   "source": [
    "![](https://miro.medium.com/v2/format:webp/1*3BRLw4lsANPEfGgimG3YVQ.png)"
   ]
  },
  {
   "cell_type": "code",
   "execution_count": null,
   "id": "263db546-5c70-4d34-89b3-38ef932ac5ce",
   "metadata": {},
   "outputs": [],
   "source": []
  }
 ],
 "metadata": {
  "kernelspec": {
   "display_name": "Python 3 (ipykernel)",
   "language": "python",
   "name": "python3"
  },
  "language_info": {
   "codemirror_mode": {
    "name": "ipython",
    "version": 3
   },
   "file_extension": ".py",
   "mimetype": "text/x-python",
   "name": "python",
   "nbconvert_exporter": "python",
   "pygments_lexer": "ipython3",
   "version": "3.12.3"
  }
 },
 "nbformat": 4,
 "nbformat_minor": 5
}
